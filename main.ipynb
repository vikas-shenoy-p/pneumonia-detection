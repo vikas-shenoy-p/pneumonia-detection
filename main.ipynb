{
 "cells": [
  {
   "cell_type": "code",
   "execution_count": 1,
   "metadata": {},
   "outputs": [
    {
     "name": "stdout",
     "output_type": "stream",
     "text": [
      "Found 5216 images belonging to 2 classes.\n",
      "Found 5216 images belonging to 2 classes.\n",
      "Epoch 1/10\n",
      "3000/3000 [==============================] - 2217s 739ms/step - loss: 0.2615 - acc: 0.8904 - val_loss: 0.1629 - val_acc: 0.9381\n",
      "Epoch 2/10\n",
      "3000/3000 [==============================] - 2206s 735ms/step - loss: 0.1926 - acc: 0.9225 - val_loss: 0.1909 - val_acc: 0.9223\n",
      "Epoch 3/10\n",
      "3000/3000 [==============================] - 2206s 735ms/step - loss: 0.1754 - acc: 0.9303 - val_loss: 0.1530 - val_acc: 0.9370\n",
      "Epoch 4/10\n",
      "3000/3000 [==============================] - 2650s 883ms/step - loss: 0.1689 - acc: 0.9328 - val_loss: 0.1728 - val_acc: 0.9306\n",
      "Epoch 5/10\n",
      "3000/3000 [==============================] - 5529s 2s/step - loss: 0.1600 - acc: 0.9372 - val_loss: 0.1321 - val_acc: 0.9509\n",
      "Epoch 6/10\n",
      "3000/3000 [==============================] - 2217s 739ms/step - loss: 0.1553 - acc: 0.9390 - val_loss: 0.1345 - val_acc: 0.9507\n",
      "Epoch 7/10\n",
      "3000/3000 [==============================] - 2246s 749ms/step - loss: 0.1488 - acc: 0.9416 - val_loss: 0.1191 - val_acc: 0.9538\n",
      "Epoch 8/10\n",
      "3000/3000 [==============================] - 2220s 740ms/step - loss: 0.1450 - acc: 0.9434 - val_loss: 0.1618 - val_acc: 0.9351\n",
      "Epoch 9/10\n",
      "3000/3000 [==============================] - 2235s 745ms/step - loss: 0.1398 - acc: 0.9453 - val_loss: 0.1504 - val_acc: 0.9382\n",
      "Epoch 10/10\n",
      "3000/3000 [==============================] - 2457s 819ms/step - loss: 0.1374 - acc: 0.9466 - val_loss: 0.1143 - val_acc: 0.9545\n"
     ]
    },
    {
     "ename": "NameError",
     "evalue": "name 'classifer' is not defined",
     "output_type": "error",
     "traceback": [
      "\u001b[1;31m---------------------------------------------------------------------------\u001b[0m",
      "\u001b[1;31mNameError\u001b[0m                                 Traceback (most recent call last)",
      "\u001b[1;32m<ipython-input-1-6799851720eb>\u001b[0m in \u001b[0;36m<module>\u001b[1;34m\u001b[0m\n\u001b[0;32m     79\u001b[0m                          validation_steps = 2000)\n\u001b[0;32m     80\u001b[0m \u001b[1;33m\u001b[0m\u001b[0m\n\u001b[1;32m---> 81\u001b[1;33m \u001b[0mclassifer\u001b[0m\u001b[1;33m.\u001b[0m\u001b[0msave\u001b[0m\u001b[1;33m(\u001b[0m\u001b[1;34m'model.xray'\u001b[0m\u001b[1;33m)\u001b[0m\u001b[1;33m\u001b[0m\u001b[1;33m\u001b[0m\u001b[0m\n\u001b[0m",
      "\u001b[1;31mNameError\u001b[0m: name 'classifer' is not defined"
     ]
    }
   ],
   "source": [
    "# Importing the Keras libraries and packages\n",
    "from tensorflow.keras.models import Sequential\n",
    "from tensorflow.keras.layers import Convolution2D\n",
    "from tensorflow.keras.layers import MaxPooling2D\n",
    "from tensorflow.keras.layers import Flatten\n",
    "from tensorflow.keras.layers import Dense\n",
    "\n",
    "# Initialising the CNN\n",
    "classifier = Sequential()\n",
    "\n",
    "# Step 1 - Convolution\n",
    "classifier.add(Convolution2D(32, 3, 3, input_shape = (64, 64, 3), activation = 'relu'))\n",
    "\n",
    "# Step 2 - Pooling\n",
    "classifier.add(MaxPooling2D(pool_size = (2, 2)))\n",
    "\n",
    "# Adding a second convolutional layer\n",
    "classifier.add(Convolution2D(32, 3, 3, activation = 'relu'))\n",
    "classifier.add(MaxPooling2D(pool_size = (2, 2)))\n",
    "\n",
    "# Step 3 - Flattening\n",
    "classifier.add(Flatten())\n",
    "\n",
    "# Step 4 - Full connection\n",
    "classifier.add(Dense(units = 128, activation = 'relu'))\n",
    "classifier.add(Dense(units = 1, activation = 'sigmoid'))\n",
    "\n",
    "# Compiling the CNN\n",
    "classifier.compile(optimizer = 'adam', loss = 'binary_crossentropy', metrics = ['accuracy'])\n",
    "\n",
    "# Part 2 - Fitting the CNN to the images\n",
    "\n",
    "from tensorflow.keras.preprocessing.image import ImageDataGenerator\n",
    "\n",
    "train_datagen = ImageDataGenerator(rescale = 1./255,\n",
    "                                   shear_range = 0.2,\n",
    "                                   zoom_range = 0.2,\n",
    "                                   horizontal_flip = True)\n",
    "\n",
    "test_datagen = ImageDataGenerator(rescale = 1./255)\n",
    "\n",
    "training_set = train_datagen.flow_from_directory('chest_xray/train',\n",
    "                                                 target_size = (64, 64),\n",
    "                                                 batch_size = 32,\n",
    "                                                 class_mode = 'binary')\n",
    "\n",
    "test_set = test_datagen.flow_from_directory('chest_xray/train',\n",
    "                                            target_size = (64, 64),\n",
    "                                            batch_size = 32,\n",
    "                                            class_mode = 'binary')\n",
    "\n",
    "classifier.fit_generator(training_set,\n",
    "                         steps_per_epoch = 3000,\n",
    "                         epochs = 10,\n",
    "                         validation_data = test_set,\n",
    "                         validation_steps = 2000)\n",
    "\n"
   ]
  },
  {
   "cell_type": "code",
   "execution_count": 2,
   "metadata": {},
   "outputs": [
    {
     "name": "stdout",
     "output_type": "stream",
     "text": [
      "[[1]]\n"
     ]
    }
   ],
   "source": [
    "classifier.save('model.xray')\n",
    "\n",
    "#This cell is to predict the images present in validation set. [[0]] -> NORMAL and [[1]] -> PNUEMONIA\n",
    "\n",
    "from tensorflow.keras.models import load_model\n",
    "from tensorflow.keras.preprocessing import image\n",
    "import numpy as np\n",
    "\n",
    "# dimensions of our images\n",
    "img_width, img_height = 64, 64\n",
    "\n",
    "# load the model we saved\n",
    "model = load_model('model.xray')\n",
    "model.compile(loss='binary_crossentropy',\n",
    "              optimizer='rmsprop',\n",
    "              metrics=['accuracy'])\n",
    "\n",
    "# predicting images\n",
    "img = image.load_img('chest_xray/val/PNEUMONIA/person1951_bacteria_4882.jpeg', target_size=(img_width, img_height))\n",
    "x = image.img_to_array(img)\n",
    "x = np.expand_dims(x, axis=0)\n",
    "\n",
    "images = np.vstack([x])\n",
    "classes = model.predict_classes(images, batch_size=10)\n",
    "print(classes)\n",
    "\n",
    "# # predicting multiple images at once\n",
    "# img = image.load_img('chest_xray/val/PNEUMONIA/', target_size=(img_width, img_height))\n",
    "# y = image.img_to_array(img)\n",
    "# y = np.expand_dims(y, axis=0)\n",
    "\n",
    "# # pass the list of multiple images np.vstack()\n",
    "# images = np.vstack([x, y])\n",
    "# classes = model.predict_classes(images, batch_size=10)\n",
    "\n",
    "# # print the classes, the images belong to\n",
    "# print(classes)\n",
    "# print(classes[0])\n",
    "# print(classes[0][0])"
   ]
  }
 ],
 "metadata": {
  "kernelspec": {
   "display_name": "Python 3",
   "language": "python",
   "name": "python3"
  },
  "language_info": {
   "codemirror_mode": {
    "name": "ipython",
    "version": 3
   },
   "file_extension": ".py",
   "mimetype": "text/x-python",
   "name": "python",
   "nbconvert_exporter": "python",
   "pygments_lexer": "ipython3",
   "version": "3.6.7"
  }
 },
 "nbformat": 4,
 "nbformat_minor": 2
}
